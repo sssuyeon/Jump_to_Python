{
 "cells": [
  {
   "cell_type": "markdown",
   "id": "a12f9415",
   "metadata": {},
   "source": [
    "## 02-4 튜플 자료형\n",
    "### 튜플은 어떻게 만들까?\n",
    "#### 튜플(tuple) : 리스트와 거의 비슷하지만 차이점 존재\n",
    "    - 리스트는 []으로 둘러싸지만, 튜플은 ()으로 둘러쌈\n",
    "    - 리스트는 그 값의 생성, 삭제, 수정 가능하지만 튜플은 그 값을 바꿀 수 없음"
   ]
  },
  {
   "cell_type": "code",
   "execution_count": null,
   "id": "5fb48b11",
   "metadata": {},
   "outputs": [],
   "source": []
  }
 ],
 "metadata": {
  "kernelspec": {
   "display_name": "Python 3",
   "language": "python",
   "name": "python3"
  },
  "language_info": {
   "codemirror_mode": {
    "name": "ipython",
    "version": 3
   },
   "file_extension": ".py",
   "mimetype": "text/x-python",
   "name": "python",
   "nbconvert_exporter": "python",
   "pygments_lexer": "ipython3",
   "version": "3.8.8"
  }
 },
 "nbformat": 4,
 "nbformat_minor": 5
}
