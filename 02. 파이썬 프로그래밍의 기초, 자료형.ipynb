{
 "cells": [
  {
   "cell_type": "markdown",
   "id": "fb314b46",
   "metadata": {},
   "source": [
    "# 02장 파이썬 프로그래밍의 기초, 자료형\n",
    "## 02-1 숫자형\n",
    "### 숫자형을 활용하기 위한 연산자"
   ]
  },
  {
   "cell_type": "markdown",
   "id": "e56bf8f0",
   "metadata": {},
   "source": [
    "1. 사칙연산"
   ]
  },
  {
   "cell_type": "code",
   "execution_count": 3,
   "id": "56d81c3f",
   "metadata": {},
   "outputs": [
    {
     "data": {
      "text/plain": [
       "7"
      ]
     },
     "execution_count": 3,
     "metadata": {},
     "output_type": "execute_result"
    }
   ],
   "source": [
    "a=3\n",
    "b=4\n",
    "a+b"
   ]
  },
  {
   "cell_type": "markdown",
   "id": "455ed269",
   "metadata": {},
   "source": [
    "2. x의 y제곱을 나타내는 ** 연산자"
   ]
  },
  {
   "cell_type": "code",
   "execution_count": 4,
   "id": "9903a12b",
   "metadata": {},
   "outputs": [
    {
     "data": {
      "text/plain": [
       "81"
      ]
     },
     "execution_count": 4,
     "metadata": {},
     "output_type": "execute_result"
    }
   ],
   "source": [
    "a = 3\n",
    "b = 4\n",
    "a ** b"
   ]
  },
  {
   "cell_type": "markdown",
   "id": "533750d9",
   "metadata": {},
   "source": [
    "3. 나눗셈 후 나머지를 반환하는 % 연산자"
   ]
  },
  {
   "cell_type": "code",
   "execution_count": 7,
   "id": "ec9821e8",
   "metadata": {},
   "outputs": [
    {
     "data": {
      "text/plain": [
       "2"
      ]
     },
     "execution_count": 7,
     "metadata": {},
     "output_type": "execute_result"
    }
   ],
   "source": [
    "10 % 4"
   ]
  },
  {
   "cell_type": "markdown",
   "id": "b4c0d799",
   "metadata": {},
   "source": [
    "4. 나눗셈 후 몫을 반환하는 // 연산자"
   ]
  },
  {
   "cell_type": "code",
   "execution_count": 6,
   "id": "57cecf46",
   "metadata": {},
   "outputs": [
    {
     "data": {
      "text/plain": [
       "1"
      ]
     },
     "execution_count": 6,
     "metadata": {},
     "output_type": "execute_result"
    }
   ],
   "source": [
    "7 // 4"
   ]
  },
  {
   "cell_type": "markdown",
   "id": "fa13a7ae",
   "metadata": {},
   "source": [
    "## 02-2 문자형\n",
    "### 문자열 만들기"
   ]
  },
  {
   "cell_type": "markdown",
   "id": "77b7f7f6",
   "metadata": {},
   "source": [
    "1. 큰따옴표로 양쪽 둘러싸기\n",
    "2. 작은따옴표로 양쪽 둘러싸기\n",
    "3. 큰따옴표 3개 연속으로 써서 양쪽 둘러싸기\n",
    "4. 작은따옴표 3개 연속으로 써서 양쪽 둘러싸기"
   ]
  },
  {
   "cell_type": "markdown",
   "id": "2d67836c",
   "metadata": {},
   "source": [
    "### 여러 줄인 문자열을 변수에 대입하고 싶을 때"
   ]
  },
  {
   "cell_type": "markdown",
   "id": "96f1f280",
   "metadata": {},
   "source": [
    "1. 이스케이프 코드 /n 삽입하기\n",
    "2. 연속된 작은따옴표 3개 또는 큰따옴표 3개 사용하기"
   ]
  },
  {
   "cell_type": "code",
   "execution_count": null,
   "id": "90ba4f3f",
   "metadata": {},
   "outputs": [],
   "source": [
    "multiline = '''\n",
    "Life is too short\n",
    "You need python\n",
    "'''"
   ]
  },
  {
   "cell_type": "markdown",
   "id": "1caa7f3f",
   "metadata": {},
   "source": [
    "### 문자열 연산하기"
   ]
  }
 ],
 "metadata": {
  "kernelspec": {
   "display_name": "Python 3",
   "language": "python",
   "name": "python3"
  },
  "language_info": {
   "codemirror_mode": {
    "name": "ipython",
    "version": 3
   },
   "file_extension": ".py",
   "mimetype": "text/x-python",
   "name": "python",
   "nbconvert_exporter": "python",
   "pygments_lexer": "ipython3",
   "version": "3.8.8"
  }
 },
 "nbformat": 4,
 "nbformat_minor": 5
}
