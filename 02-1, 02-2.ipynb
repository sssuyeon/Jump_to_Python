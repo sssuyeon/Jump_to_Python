{
 "cells": [
  {
   "cell_type": "markdown",
   "id": "fb314b46",
   "metadata": {},
   "source": [
    "# 02장 파이썬 프로그래밍의 기초, 자료형\n",
    "## 02-1 `숫자형` 자료형\n",
    "### 숫자형을 활용하기 위한 연산자"
   ]
  },
  {
   "cell_type": "markdown",
   "id": "e56bf8f0",
   "metadata": {},
   "source": [
    "#### 1. 사칙연산"
   ]
  },
  {
   "cell_type": "code",
   "execution_count": 3,
   "id": "56d81c3f",
   "metadata": {},
   "outputs": [
    {
     "data": {
      "text/plain": [
       "7"
      ]
     },
     "execution_count": 3,
     "metadata": {},
     "output_type": "execute_result"
    }
   ],
   "source": [
    "a=3\n",
    "b=4\n",
    "a+b"
   ]
  },
  {
   "cell_type": "markdown",
   "id": "455ed269",
   "metadata": {},
   "source": [
    "#### 2. x의 y제곱을 나타내는 ** 연산자"
   ]
  },
  {
   "cell_type": "code",
   "execution_count": 4,
   "id": "9903a12b",
   "metadata": {},
   "outputs": [
    {
     "data": {
      "text/plain": [
       "81"
      ]
     },
     "execution_count": 4,
     "metadata": {},
     "output_type": "execute_result"
    }
   ],
   "source": [
    "a = 3\n",
    "b = 4\n",
    "a ** b"
   ]
  },
  {
   "cell_type": "markdown",
   "id": "533750d9",
   "metadata": {},
   "source": [
    "#### 3. 나눗셈 후 나머지를 반환하는 % 연산자"
   ]
  },
  {
   "cell_type": "code",
   "execution_count": 77,
   "id": "ec9821e8",
   "metadata": {},
   "outputs": [
    {
     "data": {
      "text/plain": [
       "2"
      ]
     },
     "execution_count": 77,
     "metadata": {},
     "output_type": "execute_result"
    }
   ],
   "source": [
    "10 % 4"
   ]
  },
  {
   "cell_type": "markdown",
   "id": "b4c0d799",
   "metadata": {},
   "source": [
    "#### 4. 나눗셈 후 몫을 반환하는 // 연산자"
   ]
  },
  {
   "cell_type": "code",
   "execution_count": 78,
   "id": "57cecf46",
   "metadata": {},
   "outputs": [
    {
     "data": {
      "text/plain": [
       "1"
      ]
     },
     "execution_count": 78,
     "metadata": {},
     "output_type": "execute_result"
    }
   ],
   "source": [
    "7 // 4"
   ]
  },
  {
   "cell_type": "markdown",
   "id": "fa13a7ae",
   "metadata": {},
   "source": [
    "## 02-2 `문자형` 자료형\n",
    "### 문자열 만들기"
   ]
  },
  {
   "cell_type": "markdown",
   "id": "77b7f7f6",
   "metadata": {},
   "source": [
    "1. 큰따옴표로 양쪽 둘러싸기\n",
    "2. 작은따옴표로 양쪽 둘러싸기\n",
    "3. 큰따옴표 3개 연속으로 써서 양쪽 둘러싸기\n",
    "4. 작은따옴표 3개 연속으로 써서 양쪽 둘러싸기"
   ]
  },
  {
   "cell_type": "markdown",
   "id": "2d67836c",
   "metadata": {},
   "source": [
    "#### 여러 줄인 문자열을 변수에 대입하고 싶을 때"
   ]
  },
  {
   "cell_type": "markdown",
   "id": "96f1f280",
   "metadata": {},
   "source": [
    "1. 이스케이프 코드 /n 삽입하기\n",
    "2. 연속된 작은따옴표 3개 또는 큰따옴표 3개 사용하기"
   ]
  },
  {
   "cell_type": "code",
   "execution_count": 2,
   "id": "c6ad7b41",
   "metadata": {},
   "outputs": [
    {
     "name": "stdout",
     "output_type": "stream",
     "text": [
      "Life is too short\n",
      "You need python\n"
     ]
    }
   ],
   "source": [
    "multiline = \"Life is too short\\nYou need python\"\n",
    "print(multiline)"
   ]
  },
  {
   "cell_type": "code",
   "execution_count": 3,
   "id": "90ba4f3f",
   "metadata": {},
   "outputs": [
    {
     "name": "stdout",
     "output_type": "stream",
     "text": [
      "\n",
      "Life is too short\n",
      "You need python\n",
      "\n"
     ]
    }
   ],
   "source": [
    "multiline = '''\n",
    "Life is too short\n",
    "You need python\n",
    "'''\n",
    "print(multiline)"
   ]
  },
  {
   "cell_type": "markdown",
   "id": "0ebed6e3",
   "metadata": {},
   "source": [
    "#### 이스케이프 코드\n",
    "- \\n : 문자열 안에서 줄을 바꿀 때 사용\n",
    "- \\t : 문자열 사이에 탭 간격을 줄 때 사용\n",
    "- \\\\ : 문자 \\를 그대로 표현할 때 사용"
   ]
  },
  {
   "cell_type": "markdown",
   "id": "1caa7f3f",
   "metadata": {},
   "source": [
    "### 문자열 연산하기\n",
    "#### 문자열 더해서 연결하기"
   ]
  },
  {
   "cell_type": "code",
   "execution_count": 4,
   "id": "814853be",
   "metadata": {},
   "outputs": [
    {
     "data": {
      "text/plain": [
       "'Python is fun!'"
      ]
     },
     "execution_count": 4,
     "metadata": {},
     "output_type": "execute_result"
    }
   ],
   "source": [
    "head = \"Python\"\n",
    "tail = \" is fun!\"\n",
    "head + tail"
   ]
  },
  {
   "cell_type": "markdown",
   "id": "ec5734d3",
   "metadata": {},
   "source": [
    "#### 문자열 곱하기"
   ]
  },
  {
   "cell_type": "code",
   "execution_count": 5,
   "id": "f93da235",
   "metadata": {},
   "outputs": [
    {
     "data": {
      "text/plain": [
       "'pythonpython'"
      ]
     },
     "execution_count": 5,
     "metadata": {},
     "output_type": "execute_result"
    }
   ],
   "source": [
    "a = \"python\"\n",
    "a * 2"
   ]
  },
  {
   "cell_type": "markdown",
   "id": "24cefe4c",
   "metadata": {},
   "source": [
    "#### 문자열 곱하기 응용"
   ]
  },
  {
   "cell_type": "code",
   "execution_count": 6,
   "id": "4639eed5",
   "metadata": {},
   "outputs": [
    {
     "name": "stdout",
     "output_type": "stream",
     "text": [
      "==================================================\n",
      "My Program\n",
      "==================================================\n"
     ]
    }
   ],
   "source": [
    "#multistring.py\n",
    "\n",
    "print(\"=\" * 50)\n",
    "print(\"My Program\")\n",
    "print(\"=\" * 50)"
   ]
  },
  {
   "cell_type": "markdown",
   "id": "ab69309c",
   "metadata": {},
   "source": [
    "입력한 소스는 C:\\doit 디렉터리에 파일 이름 multistring.py로 저장하자"
   ]
  },
  {
   "cell_type": "markdown",
   "id": "a06f2e0f",
   "metadata": {},
   "source": [
    "프로그램 실행\n",
    "[윈도우 + R(실행) -> cmd 입력 -> Enter] 눌러서 명령 프롬프트 창 열고 다음 실행\n",
    "아래의 결과값이 나올 것"
   ]
  },
  {
   "cell_type": "markdown",
   "id": "586fdee3",
   "metadata": {},
   "source": [
    "C:\\Users>cd C:\\doit\n",
    "\n",
    "C:\\doit>python multistring.py"
   ]
  },
  {
   "cell_type": "markdown",
   "id": "c1f322fe",
   "metadata": {},
   "source": [
    "#### 문자열 길이 구하기"
   ]
  },
  {
   "cell_type": "code",
   "execution_count": 7,
   "id": "b124f3b3",
   "metadata": {},
   "outputs": [
    {
     "data": {
      "text/plain": [
       "17"
      ]
     },
     "execution_count": 7,
     "metadata": {},
     "output_type": "execute_result"
    }
   ],
   "source": [
    "a = \"Life is too short\"\n",
    "len(a)"
   ]
  },
  {
   "cell_type": "markdown",
   "id": "fdced071",
   "metadata": {},
   "source": [
    "### 문자열 `인덱싱`과 `슬라이싱`\n",
    " - Indexing : 가리킨다\n",
    " - Slicing : 잘라낸다"
   ]
  },
  {
   "cell_type": "markdown",
   "id": "28e05c7e",
   "metadata": {},
   "source": [
    "#### 문자열 인덱싱"
   ]
  },
  {
   "cell_type": "code",
   "execution_count": 8,
   "id": "590d5d91",
   "metadata": {},
   "outputs": [],
   "source": [
    "a = \"Life is too short, You need Python\""
   ]
  },
  {
   "cell_type": "markdown",
   "id": "265ea3d7",
   "metadata": {},
   "source": [
    "위의 코드에서 변수 a에 저장한 문자열의 각 문자마다 번호를 매겨 보면 다음과 같다\n",
    "Life is too short, You need Python\n",
    "0123456789012345678901234567890123"
   ]
  },
  {
   "cell_type": "code",
   "execution_count": 9,
   "id": "a6152501",
   "metadata": {},
   "outputs": [
    {
     "data": {
      "text/plain": [
       "'e'"
      ]
     },
     "execution_count": 9,
     "metadata": {},
     "output_type": "execute_result"
    }
   ],
   "source": [
    "a[3] #문자열 안의 특정한 값을 뽑아내는 역할 = Indexing"
   ]
  },
  {
   "cell_type": "markdown",
   "id": "de78e146",
   "metadata": {},
   "source": [
    "### \"*파이썬은 0부터 숫자를 센다*\""
   ]
  },
  {
   "cell_type": "code",
   "execution_count": 11,
   "id": "ee38f20f",
   "metadata": {},
   "outputs": [
    {
     "data": {
      "text/plain": [
       "'o'"
      ]
     },
     "execution_count": 11,
     "metadata": {},
     "output_type": "execute_result"
    }
   ],
   "source": [
    "a[-2] #뒤에서부터 두 번째 문자"
   ]
  },
  {
   "cell_type": "markdown",
   "id": "a6ddc349",
   "metadata": {},
   "source": [
    "#### 문자열 슬라이싱"
   ]
  },
  {
   "cell_type": "code",
   "execution_count": 12,
   "id": "8a045eaf",
   "metadata": {},
   "outputs": [
    {
     "data": {
      "text/plain": [
       "'Life'"
      ]
     },
     "execution_count": 12,
     "metadata": {},
     "output_type": "execute_result"
    }
   ],
   "source": [
    "a = \"Life is too short, You need Python\"\n",
    "b = a[0] + a[1] + a[2] + a[3]\n",
    "b"
   ]
  },
  {
   "cell_type": "code",
   "execution_count": 13,
   "id": "05f48db7",
   "metadata": {},
   "outputs": [
    {
     "data": {
      "text/plain": [
       "'Life'"
      ]
     },
     "execution_count": 13,
     "metadata": {},
     "output_type": "execute_result"
    }
   ],
   "source": [
    "a = \"Life is too short, You need Python\"\n",
    "a[0:4] #a[시작 번호 : 끝 번호] : 문자열 처음부터 끝 번호까지 뽑아낸다"
   ]
  },
  {
   "cell_type": "code",
   "execution_count": 14,
   "id": "224e3efb",
   "metadata": {},
   "outputs": [
    {
     "data": {
      "text/plain": [
       "'You need'"
      ]
     },
     "execution_count": 14,
     "metadata": {},
     "output_type": "execute_result"
    }
   ],
   "source": [
    "a[19:-7] #a[19]부터 a[-8]까지를 의미함"
   ]
  },
  {
   "cell_type": "markdown",
   "id": "0c34aeb7",
   "metadata": {},
   "source": [
    "#### 슬라이싱으로 문자열 나누기"
   ]
  },
  {
   "cell_type": "code",
   "execution_count": 16,
   "id": "53e75803",
   "metadata": {},
   "outputs": [
    {
     "data": {
      "text/plain": [
       "'Rainy'"
      ]
     },
     "execution_count": 16,
     "metadata": {},
     "output_type": "execute_result"
    }
   ],
   "source": [
    "a = \"20010331Rainy\"\n",
    "\n",
    "#숫자 8을 기준으로 문자열 a를 양쪽으로 한 번씩 슬라이싱\n",
    "\n",
    "date = a[:8] #a[8] 포함되지 않음\n",
    "weather = a[8:] #a[8] 포함됨\n",
    "date"
   ]
  },
  {
   "cell_type": "code",
   "execution_count": 17,
   "id": "c9d5e017",
   "metadata": {},
   "outputs": [
    {
     "data": {
      "text/plain": [
       "'Rainy'"
      ]
     },
     "execution_count": 17,
     "metadata": {},
     "output_type": "execute_result"
    }
   ],
   "source": [
    "weather"
   ]
  },
  {
   "cell_type": "markdown",
   "id": "962a5bc8",
   "metadata": {},
   "source": [
    "#### \"Pithon\"이라는 문자열을 \"Python\"으로 바꾸려면?"
   ]
  },
  {
   "cell_type": "code",
   "execution_count": 18,
   "id": "1b7371c6",
   "metadata": {},
   "outputs": [
    {
     "data": {
      "text/plain": [
       "'P'"
      ]
     },
     "execution_count": 18,
     "metadata": {},
     "output_type": "execute_result"
    }
   ],
   "source": [
    "a = \"Pithon\"\n",
    "a[:1]"
   ]
  },
  {
   "cell_type": "code",
   "execution_count": 19,
   "id": "3387aa47",
   "metadata": {},
   "outputs": [
    {
     "data": {
      "text/plain": [
       "'thon'"
      ]
     },
     "execution_count": 19,
     "metadata": {},
     "output_type": "execute_result"
    }
   ],
   "source": [
    "a[2:]"
   ]
  },
  {
   "cell_type": "code",
   "execution_count": 20,
   "id": "d10cefa5",
   "metadata": {},
   "outputs": [
    {
     "data": {
      "text/plain": [
       "'Python'"
      ]
     },
     "execution_count": 20,
     "metadata": {},
     "output_type": "execute_result"
    }
   ],
   "source": [
    "a[:1] + \"y\" + a[2:]"
   ]
  },
  {
   "cell_type": "markdown",
   "id": "9e63f468",
   "metadata": {},
   "source": [
    "### 문자열 `포매팅`\n",
    "#### 문자열 안의 특정한 값을 바꿔야 할 경우가 있을 때 가능하게 해주는 것"
   ]
  },
  {
   "cell_type": "markdown",
   "id": "eb95c739",
   "metadata": {},
   "source": [
    "#### 문자열 포매팅 따라하기\n",
    "#### 1. 숫자 바로 대입"
   ]
  },
  {
   "cell_type": "code",
   "execution_count": 24,
   "id": "11043a2e",
   "metadata": {},
   "outputs": [
    {
     "data": {
      "text/plain": [
       "'I eat 3 apples.'"
      ]
     },
     "execution_count": 24,
     "metadata": {},
     "output_type": "execute_result"
    }
   ],
   "source": [
    "#문자열 안에 숫자를 넣고 싶은 자리에 %d 문자 넣어주기\n",
    "#삽입할 숫자 3은 가장 뒤에 있는 % 문자 다음에 넣어주기\n",
    "\n",
    "\"I eat %d apples.\" % 3"
   ]
  },
  {
   "cell_type": "markdown",
   "id": "fcdea445",
   "metadata": {},
   "source": [
    "#### 2. 문자열 바로 대입"
   ]
  },
  {
   "cell_type": "code",
   "execution_count": 25,
   "id": "6fff62de",
   "metadata": {},
   "outputs": [
    {
     "data": {
      "text/plain": [
       "'I eat five apples.'"
      ]
     },
     "execution_count": 25,
     "metadata": {},
     "output_type": "execute_result"
    }
   ],
   "source": [
    "#문자열 안에 문자를 넣고 싶은 자리에 %s 문자 넣어주기\n",
    "#삽입할 문자 five는 가장 뒤에 있는 % 문자 다음에 넣어주기\n",
    "\n",
    "\"I eat %s apples.\" % \"five\""
   ]
  },
  {
   "cell_type": "markdown",
   "id": "4ca71def",
   "metadata": {},
   "source": [
    "#### 3. 숫자 값을 나타내는 변수로 대입"
   ]
  },
  {
   "cell_type": "code",
   "execution_count": 26,
   "id": "8b33810d",
   "metadata": {},
   "outputs": [
    {
     "data": {
      "text/plain": [
       "'I eat 3 apples.'"
      ]
     },
     "execution_count": 26,
     "metadata": {},
     "output_type": "execute_result"
    }
   ],
   "source": [
    "number = 3\n",
    "\"I eat %d apples.\" % number"
   ]
  },
  {
   "cell_type": "markdown",
   "id": "7fbbee22",
   "metadata": {},
   "source": [
    "#### 4. 2개 이상의 값 넣기"
   ]
  },
  {
   "cell_type": "code",
   "execution_count": 28,
   "id": "dcaa57fe",
   "metadata": {},
   "outputs": [
    {
     "data": {
      "text/plain": [
       "'I ate 10 apples. so I was sick for three days.'"
      ]
     },
     "execution_count": 28,
     "metadata": {},
     "output_type": "execute_result"
    }
   ],
   "source": [
    "number = 10\n",
    "day = \"three\"\n",
    "\"I ate %d apples. so I was sick for %s days.\" % (number, day)"
   ]
  },
  {
   "cell_type": "markdown",
   "id": "276d4a3b",
   "metadata": {},
   "source": [
    "#### `문자열 포맷 코드`\n",
    "- %s : 문자열 (string)\n",
    "- %c : 문자 1개 (character)\n",
    "- %d : 정수 (integer)\n",
    "- %f : 소수\n",
    "- %% : 문자 % 자체"
   ]
  },
  {
   "cell_type": "code",
   "execution_count": 80,
   "id": "e47723b3",
   "metadata": {},
   "outputs": [
    {
     "ename": "ValueError",
     "evalue": "incomplete format",
     "output_type": "error",
     "traceback": [
      "\u001b[1;31m---------------------------------------------------------------------------\u001b[0m",
      "\u001b[1;31mValueError\u001b[0m                                Traceback (most recent call last)",
      "\u001b[1;32m<ipython-input-80-93ec549d56a6>\u001b[0m in \u001b[0;36m<module>\u001b[1;34m\u001b[0m\n\u001b[1;32m----> 1\u001b[1;33m \u001b[1;34m\"Error is %d%.\"\u001b[0m \u001b[1;33m%\u001b[0m \u001b[1;36m98\u001b[0m \u001b[1;31m# 오류 발생\u001b[0m\u001b[1;33m\u001b[0m\u001b[1;33m\u001b[0m\u001b[0m\n\u001b[0m\u001b[0;32m      2\u001b[0m \u001b[1;33m\u001b[0m\u001b[0m\n\u001b[0;32m      3\u001b[0m \u001b[1;31m# 문자열 포맷 코드인 %d와 %가 같은 문자열에 존재하는 경우,\u001b[0m\u001b[1;33m\u001b[0m\u001b[1;33m\u001b[0m\u001b[1;33m\u001b[0m\u001b[0m\n\u001b[0;32m      4\u001b[0m \u001b[1;31m# %를 나타내려면 반드시 %%로 써야 하는 법칙 존재\u001b[0m\u001b[1;33m\u001b[0m\u001b[1;33m\u001b[0m\u001b[1;33m\u001b[0m\u001b[0m\n",
      "\u001b[1;31mValueError\u001b[0m: incomplete format"
     ]
    }
   ],
   "source": [
    "\"Error is %d%.\" % 98 #오류 발생\n",
    "\n",
    "#문자열 포맷 코드인 %d와 %가 같은 문자열에 존재하는 경우,\n",
    "#%를 나타내려면 반드시 %%로 써야 하는 법칙 존재"
   ]
  },
  {
   "cell_type": "code",
   "execution_count": 30,
   "id": "4f20ba8b",
   "metadata": {},
   "outputs": [
    {
     "data": {
      "text/plain": [
       "'Error is 98%.'"
      ]
     },
     "execution_count": 30,
     "metadata": {},
     "output_type": "execute_result"
    }
   ],
   "source": [
    "\"Error is %d%%.\" % 98"
   ]
  },
  {
   "cell_type": "markdown",
   "id": "e5767a8b",
   "metadata": {},
   "source": [
    "#### 포맷 코드와 숫자 함께 사용하기\n",
    "#### 1. 정렬과 공백"
   ]
  },
  {
   "cell_type": "code",
   "execution_count": 32,
   "id": "6c540b2a",
   "metadata": {},
   "outputs": [
    {
     "data": {
      "text/plain": [
       "'        hi'"
      ]
     },
     "execution_count": 32,
     "metadata": {},
     "output_type": "execute_result"
    }
   ],
   "source": [
    "#전체 길이가 10개인 문자열 공간에 대입되는 값을 오른쪽으로 정렬하고\n",
    "#나머지는 공백으로 남겨 두라는 의미\n",
    "\n",
    "\"%10s\" % \"hi\""
   ]
  },
  {
   "cell_type": "code",
   "execution_count": 33,
   "id": "d4365ef2",
   "metadata": {},
   "outputs": [
    {
     "data": {
      "text/plain": [
       "'hi        jane.'"
      ]
     },
     "execution_count": 33,
     "metadata": {},
     "output_type": "execute_result"
    }
   ],
   "source": [
    "#왼쪽 정렬\n",
    "\n",
    "\"%-10sjane.\" % 'hi'"
   ]
  },
  {
   "cell_type": "markdown",
   "id": "27e644a2",
   "metadata": {},
   "source": [
    "#### 2. 소수점 표현하기"
   ]
  },
  {
   "cell_type": "code",
   "execution_count": 35,
   "id": "dd721ae7",
   "metadata": {},
   "outputs": [
    {
     "data": {
      "text/plain": [
       "'3.4213'"
      ]
     },
     "execution_count": 35,
     "metadata": {},
     "output_type": "execute_result"
    }
   ],
   "source": [
    " \"%0.4f\" % 3.42134234 #소수점 뒤에 나올 숫자 개수 = 4"
   ]
  },
  {
   "cell_type": "code",
   "execution_count": 36,
   "id": "1e45cec2",
   "metadata": {},
   "outputs": [
    {
     "data": {
      "text/plain": [
       "'    3.4213'"
      ]
     },
     "execution_count": 36,
     "metadata": {},
     "output_type": "execute_result"
    }
   ],
   "source": [
    "\"%10.4f\" % 3.42134234"
   ]
  },
  {
   "cell_type": "markdown",
   "id": "26ed2bcc",
   "metadata": {},
   "source": [
    "#### `format 함수`를 사용한 포매팅\n",
    "#### 숫자 바로 대입하기"
   ]
  },
  {
   "cell_type": "code",
   "execution_count": 37,
   "id": "07d06f8d",
   "metadata": {},
   "outputs": [
    {
     "data": {
      "text/plain": [
       "'I eat 3 apples'"
      ]
     },
     "execution_count": 37,
     "metadata": {},
     "output_type": "execute_result"
    }
   ],
   "source": [
    "\"I eat {0} apples\".format(3)"
   ]
  },
  {
   "cell_type": "markdown",
   "id": "c65c6f04",
   "metadata": {},
   "source": [
    "#### 문자열 바로 대입하기"
   ]
  },
  {
   "cell_type": "code",
   "execution_count": 38,
   "id": "d3160450",
   "metadata": {},
   "outputs": [
    {
     "data": {
      "text/plain": [
       "'I eat five apples'"
      ]
     },
     "execution_count": 38,
     "metadata": {},
     "output_type": "execute_result"
    }
   ],
   "source": [
    "\"I eat {0} apples\".format(\"five\")"
   ]
  },
  {
   "cell_type": "markdown",
   "id": "7990ec49",
   "metadata": {},
   "source": [
    "#### 숫자 값을 가진 변수로 대입하기"
   ]
  },
  {
   "cell_type": "code",
   "execution_count": 39,
   "id": "7b1043f3",
   "metadata": {},
   "outputs": [
    {
     "data": {
      "text/plain": [
       "'I eat 3 apples'"
      ]
     },
     "execution_count": 39,
     "metadata": {},
     "output_type": "execute_result"
    }
   ],
   "source": [
    "number = 3\n",
    "\"I eat {0} apples\".format(number)"
   ]
  },
  {
   "cell_type": "markdown",
   "id": "95eab36a",
   "metadata": {},
   "source": [
    "#### 2개 이상의 값 넣기"
   ]
  },
  {
   "cell_type": "code",
   "execution_count": 40,
   "id": "062cf0a8",
   "metadata": {},
   "outputs": [
    {
     "data": {
      "text/plain": [
       "'I ate 10 apples. so I was sick for three days.'"
      ]
     },
     "execution_count": 40,
     "metadata": {},
     "output_type": "execute_result"
    }
   ],
   "source": [
    "number = 10\n",
    "day = \"three\"\n",
    "\"I ate {0} apples. so I was sick for {1} days.\".format(number, day)"
   ]
  },
  {
   "cell_type": "markdown",
   "id": "b8048d19",
   "metadata": {},
   "source": [
    "#### 이름으로 넣기"
   ]
  },
  {
   "cell_type": "code",
   "execution_count": 41,
   "id": "18524afb",
   "metadata": {},
   "outputs": [
    {
     "data": {
      "text/plain": [
       "'I ate 10 apples. so I was sick for 3 days.'"
      ]
     },
     "execution_count": 41,
     "metadata": {},
     "output_type": "execute_result"
    }
   ],
   "source": [
    "\"I ate {number} apples. so I was sick for {day} days.\".format(number=10, day=3)"
   ]
  },
  {
   "cell_type": "markdown",
   "id": "2673f6c0",
   "metadata": {},
   "source": [
    "#### 인덱스와 이름을 혼용해서 넣기"
   ]
  },
  {
   "cell_type": "code",
   "execution_count": 42,
   "id": "c15e58c7",
   "metadata": {},
   "outputs": [
    {
     "data": {
      "text/plain": [
       "'I ate 10 apples. so I was sick for 3 days.'"
      ]
     },
     "execution_count": 42,
     "metadata": {},
     "output_type": "execute_result"
    }
   ],
   "source": [
    "\"I ate {0} apples. so I was sick for {day} days.\".format(10, day=3)"
   ]
  },
  {
   "cell_type": "markdown",
   "id": "2d69d7e6",
   "metadata": {},
   "source": [
    "#### 왼쪽 정렬"
   ]
  },
  {
   "cell_type": "code",
   "execution_count": 43,
   "id": "0b354afb",
   "metadata": {},
   "outputs": [
    {
     "data": {
      "text/plain": [
       "'hi        '"
      ]
     },
     "execution_count": 43,
     "metadata": {},
     "output_type": "execute_result"
    }
   ],
   "source": [
    "# :<10 표현식 사용 : 치환되는 문자열을 왼쪽으로 정렬하고 문자열의 총 자릿수 10\n",
    "\n",
    "\"{0:<10}\".format(\"hi\")"
   ]
  },
  {
   "cell_type": "markdown",
   "id": "e94bf2e6",
   "metadata": {},
   "source": [
    "#### 오른쪽 정렬"
   ]
  },
  {
   "cell_type": "code",
   "execution_count": null,
   "id": "c513505f",
   "metadata": {},
   "outputs": [],
   "source": [
    "# :>10 표현식 사용 : 치한되는 문자열 오른쪽으로 정렬하고 문자열 총 자릿수 10\n",
    "\n",
    "\"{0:>10}\".format(\"hi\")"
   ]
  },
  {
   "cell_type": "markdown",
   "id": "0ae98acc",
   "metadata": {},
   "source": [
    "#### 가운데 정렬"
   ]
  },
  {
   "cell_type": "code",
   "execution_count": 44,
   "id": "c71e276a",
   "metadata": {},
   "outputs": [
    {
     "data": {
      "text/plain": [
       "'    hi    '"
      ]
     },
     "execution_count": 44,
     "metadata": {},
     "output_type": "execute_result"
    }
   ],
   "source": [
    "# :^ 표현식 사용 : 가운데 정렬\n",
    "\n",
    "\"{0:^10}\".format(\"hi\")"
   ]
  },
  {
   "cell_type": "markdown",
   "id": "892e0118",
   "metadata": {},
   "source": [
    "#### 공백 채우기"
   ]
  },
  {
   "cell_type": "code",
   "execution_count": 45,
   "id": "9c2fa7df",
   "metadata": {},
   "outputs": [
    {
     "data": {
      "text/plain": [
       "'====hi===='"
      ]
     },
     "execution_count": 45,
     "metadata": {},
     "output_type": "execute_result"
    }
   ],
   "source": [
    "#채워 넣을 문자 값은 정렬 문자(<, >, ^) 바로 앞에 넣어주기\n",
    "\n",
    "\"{0:=^10}\".format(\"hi\") # 빈 공간을 = 문자로 채우기"
   ]
  },
  {
   "cell_type": "code",
   "execution_count": 46,
   "id": "132ab553",
   "metadata": {},
   "outputs": [
    {
     "data": {
      "text/plain": [
       "'hi!!!!!!!!'"
      ]
     },
     "execution_count": 46,
     "metadata": {},
     "output_type": "execute_result"
    }
   ],
   "source": [
    "\"{0:!<10}\".format(\"hi\") #빈 공간을 ! 문자로 채우기"
   ]
  },
  {
   "cell_type": "markdown",
   "id": "5cea7f30",
   "metadata": {},
   "source": [
    "#### 소수점 표현하기"
   ]
  },
  {
   "cell_type": "code",
   "execution_count": 47,
   "id": "f2335508",
   "metadata": {},
   "outputs": [
    {
     "data": {
      "text/plain": [
       "'3.4213'"
      ]
     },
     "execution_count": 47,
     "metadata": {},
     "output_type": "execute_result"
    }
   ],
   "source": [
    "y = 3.42134234\n",
    "\"{0:0.4f}\".format(y) #소수점 4자리까지 표현"
   ]
  },
  {
   "cell_type": "code",
   "execution_count": 48,
   "id": "b094cd1f",
   "metadata": {},
   "outputs": [
    {
     "data": {
      "text/plain": [
       "'    3.4213'"
      ]
     },
     "execution_count": 48,
     "metadata": {},
     "output_type": "execute_result"
    }
   ],
   "source": [
    "\"{0:10.4f}\".format(y)"
   ]
  },
  {
   "cell_type": "markdown",
   "id": "79a6ee80",
   "metadata": {},
   "source": [
    "#### { 또는 } 문자 표현하기"
   ]
  },
  {
   "cell_type": "code",
   "execution_count": null,
   "id": "c1c81900",
   "metadata": {},
   "outputs": [],
   "source": [
    "#format 함수를 이용하여 문자열 포매팅을 할 경우\n",
    "#중괄호를 {{ }} 연속으로 2개를 사용하면 됨\n",
    "\n",
    "\"{{ and }}\".format()"
   ]
  },
  {
   "cell_type": "markdown",
   "id": "901922ad",
   "metadata": {},
   "source": [
    "#### f 문자열 포매팅"
   ]
  },
  {
   "cell_type": "code",
   "execution_count": 49,
   "id": "a1c35749",
   "metadata": {},
   "outputs": [
    {
     "data": {
      "text/plain": [
       "'나의 이름은 홍길동입니다. 나이는 30입니다.'"
      ]
     },
     "execution_count": 49,
     "metadata": {},
     "output_type": "execute_result"
    }
   ],
   "source": [
    "name = '홍길동'\n",
    "age = 30\n",
    "f'나의 이름은 {name}입니다. 나이는 {age}입니다.'"
   ]
  },
  {
   "cell_type": "code",
   "execution_count": 50,
   "id": "bfd2fedd",
   "metadata": {},
   "outputs": [
    {
     "data": {
      "text/plain": [
       "'나는 내년이면 31살이 된다.'"
      ]
     },
     "execution_count": 50,
     "metadata": {},
     "output_type": "execute_result"
    }
   ],
   "source": [
    "age = 30\n",
    "f'나는 내년이면 {age+1}살이 된다.'"
   ]
  },
  {
   "cell_type": "code",
   "execution_count": 51,
   "id": "794b24db",
   "metadata": {},
   "outputs": [
    {
     "data": {
      "text/plain": [
       "'나의 이름은 홍길동입니다. 나이는 30입니다.'"
      ]
     },
     "execution_count": 51,
     "metadata": {},
     "output_type": "execute_result"
    }
   ],
   "source": [
    "d = {'name':'홍길동', 'age':30}\n",
    "f'나의 이름은 {d[\"name\"]}입니다. 나이는 {d[\"age\"]}입니다.'"
   ]
  },
  {
   "cell_type": "code",
   "execution_count": 52,
   "id": "6e0d0a1f",
   "metadata": {},
   "outputs": [
    {
     "data": {
      "text/plain": [
       "'hi        '"
      ]
     },
     "execution_count": 52,
     "metadata": {},
     "output_type": "execute_result"
    }
   ],
   "source": [
    "f'{\"hi\":<10}' #왼쪽 정렬"
   ]
  },
  {
   "cell_type": "code",
   "execution_count": 53,
   "id": "90140839",
   "metadata": {},
   "outputs": [
    {
     "data": {
      "text/plain": [
       "'        hi'"
      ]
     },
     "execution_count": 53,
     "metadata": {},
     "output_type": "execute_result"
    }
   ],
   "source": [
    "f'{\"hi\":>10}' #오른쪽 정렬"
   ]
  },
  {
   "cell_type": "code",
   "execution_count": 54,
   "id": "04a9eccd",
   "metadata": {},
   "outputs": [
    {
     "data": {
      "text/plain": [
       "'    hi    '"
      ]
     },
     "execution_count": 54,
     "metadata": {},
     "output_type": "execute_result"
    }
   ],
   "source": [
    "f'{\"hi\":^10}' #가운데 정렬"
   ]
  },
  {
   "cell_type": "code",
   "execution_count": 55,
   "id": "57e3d8cc",
   "metadata": {},
   "outputs": [
    {
     "data": {
      "text/plain": [
       "'====hi===='"
      ]
     },
     "execution_count": 55,
     "metadata": {},
     "output_type": "execute_result"
    }
   ],
   "source": [
    "f'{\"hi\":=^10}' #가운데 정렬하고 '=' 문자로 공백 채우기"
   ]
  },
  {
   "cell_type": "code",
   "execution_count": 56,
   "id": "7a74babc",
   "metadata": {},
   "outputs": [
    {
     "data": {
      "text/plain": [
       "'hi!!!!!!!!'"
      ]
     },
     "execution_count": 56,
     "metadata": {},
     "output_type": "execute_result"
    }
   ],
   "source": [
    "f'{\"hi\":!<10}'  #왼쪽 정렬하고 '!' 문자로 공백 채우기"
   ]
  },
  {
   "cell_type": "code",
   "execution_count": 57,
   "id": "c7961f6f",
   "metadata": {},
   "outputs": [
    {
     "data": {
      "text/plain": [
       "'3.4213'"
      ]
     },
     "execution_count": 57,
     "metadata": {},
     "output_type": "execute_result"
    }
   ],
   "source": [
    " y = 3.42134234\n",
    "f'{y:0.4f}'  #소수점 4자리까지만 표현"
   ]
  },
  {
   "cell_type": "code",
   "execution_count": 58,
   "id": "bfde04db",
   "metadata": {},
   "outputs": [
    {
     "data": {
      "text/plain": [
       "'    3.4213'"
      ]
     },
     "execution_count": 58,
     "metadata": {},
     "output_type": "execute_result"
    }
   ],
   "source": [
    "f'{y:10.4f}'  #소수점 4자리까지 표현하고 총 자리수를 10으로 맞춤"
   ]
  },
  {
   "cell_type": "code",
   "execution_count": 59,
   "id": "d40c30aa",
   "metadata": {},
   "outputs": [
    {
     "data": {
      "text/plain": [
       "'{ and }'"
      ]
     },
     "execution_count": 59,
     "metadata": {},
     "output_type": "execute_result"
    }
   ],
   "source": [
    "f'{{ and }}'"
   ]
  },
  {
   "cell_type": "markdown",
   "id": "49b82186",
   "metadata": {},
   "source": [
    "### 문자열 관련 함수들"
   ]
  },
  {
   "cell_type": "markdown",
   "id": "92808a70",
   "metadata": {},
   "source": [
    "#### 문자 개수 세기 (`count`)"
   ]
  },
  {
   "cell_type": "code",
   "execution_count": 60,
   "id": "ddfa78a4",
   "metadata": {},
   "outputs": [
    {
     "data": {
      "text/plain": [
       "2"
      ]
     },
     "execution_count": 60,
     "metadata": {},
     "output_type": "execute_result"
    }
   ],
   "source": [
    "a = 'hobby'\n",
    "a.count('b') #문자열 중 'b'의 개수"
   ]
  },
  {
   "cell_type": "markdown",
   "id": "038490ca",
   "metadata": {},
   "source": [
    "#### 위치 알려주기(1) (`find`)"
   ]
  },
  {
   "cell_type": "code",
   "execution_count": 61,
   "id": "bf62728d",
   "metadata": {},
   "outputs": [
    {
     "data": {
      "text/plain": [
       "14"
      ]
     },
     "execution_count": 61,
     "metadata": {},
     "output_type": "execute_result"
    }
   ],
   "source": [
    "a = \"Python is the best choice\"\n",
    "a.find('b')"
   ]
  },
  {
   "cell_type": "code",
   "execution_count": 62,
   "id": "c840a7d7",
   "metadata": {},
   "outputs": [
    {
     "data": {
      "text/plain": [
       "-1"
      ]
     },
     "execution_count": 62,
     "metadata": {},
     "output_type": "execute_result"
    }
   ],
   "source": [
    "a.find('k') #찾는 문자나 문자열이 존재하지 않는다면 -1 반환"
   ]
  },
  {
   "cell_type": "markdown",
   "id": "5807de18",
   "metadata": {},
   "source": [
    "#### 위치 알려주기(2) (`index`)"
   ]
  },
  {
   "cell_type": "code",
   "execution_count": 64,
   "id": "ac2166af",
   "metadata": {},
   "outputs": [
    {
     "data": {
      "text/plain": [
       "8"
      ]
     },
     "execution_count": 64,
     "metadata": {},
     "output_type": "execute_result"
    }
   ],
   "source": [
    "a = \"Life is too short\"\n",
    "a.index('t')"
   ]
  },
  {
   "cell_type": "code",
   "execution_count": 65,
   "id": "c40f8d5e",
   "metadata": {},
   "outputs": [
    {
     "ename": "ValueError",
     "evalue": "substring not found",
     "output_type": "error",
     "traceback": [
      "\u001b[1;31m---------------------------------------------------------------------------\u001b[0m",
      "\u001b[1;31mValueError\u001b[0m                                Traceback (most recent call last)",
      "\u001b[1;32m<ipython-input-65-cb6c8ec35229>\u001b[0m in \u001b[0;36m<module>\u001b[1;34m\u001b[0m\n\u001b[1;32m----> 1\u001b[1;33m \u001b[0ma\u001b[0m\u001b[1;33m.\u001b[0m\u001b[0mindex\u001b[0m\u001b[1;33m(\u001b[0m\u001b[1;34m'k'\u001b[0m\u001b[1;33m)\u001b[0m\u001b[1;33m\u001b[0m\u001b[1;33m\u001b[0m\u001b[0m\n\u001b[0m",
      "\u001b[1;31mValueError\u001b[0m: substring not found"
     ]
    }
   ],
   "source": [
    "a.index('k') #문자열 안에 존재하지 않는 문자를 찾으면 오류 발생"
   ]
  },
  {
   "cell_type": "markdown",
   "id": "0e77b187",
   "metadata": {},
   "source": [
    "#### 문자열 삽입 (`join`)"
   ]
  },
  {
   "cell_type": "code",
   "execution_count": 66,
   "id": "003f6291",
   "metadata": {},
   "outputs": [
    {
     "data": {
      "text/plain": [
       "'a,b,c,d'"
      ]
     },
     "execution_count": 66,
     "metadata": {},
     "output_type": "execute_result"
    }
   ],
   "source": [
    "\",\".join('abcd')"
   ]
  },
  {
   "cell_type": "code",
   "execution_count": 67,
   "id": "f5a2c0c0",
   "metadata": {},
   "outputs": [
    {
     "data": {
      "text/plain": [
       "'a,b,c,d'"
      ]
     },
     "execution_count": 67,
     "metadata": {},
     "output_type": "execute_result"
    }
   ],
   "source": [
    "\",\".join(['a', 'b', 'c', 'd'])"
   ]
  },
  {
   "cell_type": "markdown",
   "id": "bd853acb",
   "metadata": {},
   "source": [
    "#### 소문자를 대문자로 바꾸기 (`uppper`)"
   ]
  },
  {
   "cell_type": "code",
   "execution_count": 68,
   "id": "a80d8467",
   "metadata": {},
   "outputs": [
    {
     "data": {
      "text/plain": [
       "'HI'"
      ]
     },
     "execution_count": 68,
     "metadata": {},
     "output_type": "execute_result"
    }
   ],
   "source": [
    "a = \"hi\"\n",
    "a.upper()"
   ]
  },
  {
   "cell_type": "markdown",
   "id": "52f16511",
   "metadata": {},
   "source": [
    "#### 대문자를 소문자로 바꾸기 (`lower`)"
   ]
  },
  {
   "cell_type": "code",
   "execution_count": 81,
   "id": "1db215d9",
   "metadata": {},
   "outputs": [
    {
     "data": {
      "text/plain": [
       "'hi'"
      ]
     },
     "execution_count": 81,
     "metadata": {},
     "output_type": "execute_result"
    }
   ],
   "source": [
    "a = \"HI\"\n",
    "a.lower()"
   ]
  },
  {
   "cell_type": "markdown",
   "id": "9b0a7240",
   "metadata": {},
   "source": [
    "#### 왼쪽 공백 지우기 (`lstrip`)"
   ]
  },
  {
   "cell_type": "code",
   "execution_count": 71,
   "id": "07d275c5",
   "metadata": {},
   "outputs": [
    {
     "data": {
      "text/plain": [
       "'hi '"
      ]
     },
     "execution_count": 71,
     "metadata": {},
     "output_type": "execute_result"
    }
   ],
   "source": [
    "a = \" hi \"\n",
    "a.lstrip()"
   ]
  },
  {
   "cell_type": "markdown",
   "id": "ca4ae3e5",
   "metadata": {},
   "source": [
    "#### 오른쪽 공백 지우기 (`rstrip`)"
   ]
  },
  {
   "cell_type": "code",
   "execution_count": 72,
   "id": "3bb108c0",
   "metadata": {},
   "outputs": [
    {
     "data": {
      "text/plain": [
       "' hi'"
      ]
     },
     "execution_count": 72,
     "metadata": {},
     "output_type": "execute_result"
    }
   ],
   "source": [
    "a.rstrip()"
   ]
  },
  {
   "cell_type": "markdown",
   "id": "ebdfee06",
   "metadata": {},
   "source": [
    "#### 양쪽 공백 지우기 (`strip`)"
   ]
  },
  {
   "cell_type": "code",
   "execution_count": 73,
   "id": "9d2f0e53",
   "metadata": {},
   "outputs": [
    {
     "data": {
      "text/plain": [
       "'hi'"
      ]
     },
     "execution_count": 73,
     "metadata": {},
     "output_type": "execute_result"
    }
   ],
   "source": [
    "a.strip()"
   ]
  },
  {
   "cell_type": "markdown",
   "id": "2ba9a2c2",
   "metadata": {},
   "source": [
    "#### 문자열 바꾸기 (`replace`)"
   ]
  },
  {
   "cell_type": "code",
   "execution_count": 74,
   "id": "cb3ba7cf",
   "metadata": {},
   "outputs": [
    {
     "data": {
      "text/plain": [
       "'Your leg is too short'"
      ]
     },
     "execution_count": 74,
     "metadata": {},
     "output_type": "execute_result"
    }
   ],
   "source": [
    "a = \"Life is too short\"\n",
    "a.replace(\"Life\", \"Your leg\")"
   ]
  },
  {
   "cell_type": "markdown",
   "id": "25aabba0",
   "metadata": {},
   "source": [
    "#### 문자열 나누기 (`split`)"
   ]
  },
  {
   "cell_type": "code",
   "execution_count": 75,
   "id": "c544b9f1",
   "metadata": {},
   "outputs": [
    {
     "data": {
      "text/plain": [
       "['Life', 'is', 'too', 'short']"
      ]
     },
     "execution_count": 75,
     "metadata": {},
     "output_type": "execute_result"
    }
   ],
   "source": [
    "a.split()  #공백(스페이스, 탭, 엔터) 기준으로 문자열 나누기"
   ]
  },
  {
   "cell_type": "code",
   "execution_count": 76,
   "id": "c9697987",
   "metadata": {},
   "outputs": [
    {
     "data": {
      "text/plain": [
       "['a', 'b', 'c', 'd']"
      ]
     },
     "execution_count": 76,
     "metadata": {},
     "output_type": "execute_result"
    }
   ],
   "source": [
    "b = \"a:b:c:d\"\n",
    "b.split(':')"
   ]
  }
 ],
 "metadata": {
  "kernelspec": {
   "display_name": "Python 3",
   "language": "python",
   "name": "python3"
  },
  "language_info": {
   "codemirror_mode": {
    "name": "ipython",
    "version": 3
   },
   "file_extension": ".py",
   "mimetype": "text/x-python",
   "name": "python",
   "nbconvert_exporter": "python",
   "pygments_lexer": "ipython3",
   "version": "3.8.8"
  }
 },
 "nbformat": 4,
 "nbformat_minor": 5
}
